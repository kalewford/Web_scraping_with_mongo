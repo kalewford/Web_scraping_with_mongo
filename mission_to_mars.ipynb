{
 "cells": [
  {
   "cell_type": "markdown",
   "metadata": {},
   "source": [
    "# Mars Web Scraping Project (using Selenium, MongoDB and Flask)"
   ]
  },
  {
   "cell_type": "code",
   "execution_count": 178,
   "metadata": {},
   "outputs": [],
   "source": [
    "# Dependencies\n",
    "from bs4 import BeautifulSoup as bs\n",
    "import requests\n",
    "import pymongo\n",
    "from splinter import Browser\n",
    "import pandas as pd\n",
    "\n",
    "#Selenium\n",
    "executable_path = {'executable_path':'C:/ChromeDriver/chromedriver.exe'}\n",
    "browser = Browser('chrome', **executable_path, headless=False)\n",
    "\n",
    "#PyMongo\n",
    "conn = 'mongodb://localhost:27017'\n",
    "client = pymongo.MongoClient(conn)"
   ]
  },
  {
   "cell_type": "markdown",
   "metadata": {},
   "source": [
    "# Latest Mars News from Nasa"
   ]
  },
  {
   "cell_type": "code",
   "execution_count": 122,
   "metadata": {},
   "outputs": [],
   "source": [
    "#Use this url as the scraping target\n",
    "nasa_news_url = \"https://mars.nasa.gov/news/?page=0&per_page=40&order=publish_date+desc%2Ccreated_at+desc&search=&category=19%2C165%2C184%2C204&blank_scope=Latest\"\n",
    "\n",
    "#Use url client\n",
    "nasaresponse = requests.get(nasa_news_url)\n",
    "\n",
    "#Just checking to see that it works\n",
    "#print(nasaresponse)"
   ]
  },
  {
   "cell_type": "code",
   "execution_count": 123,
   "metadata": {},
   "outputs": [],
   "source": [
    "#Make some Nasa news soup, Mix can contents with 1 can of water\n",
    "nasa_news_soup = bs(nasaresponse.text, 'html.parser')\n",
    "#Response for viewing\n",
    "#print(nasa_news_soup.prettify())"
   ]
  },
  {
   "cell_type": "code",
   "execution_count": 124,
   "metadata": {},
   "outputs": [
    {
     "data": {
      "text/plain": [
       "'Nominees include four JPL projects: the solar system and climate websites, InSight social media, and a 360-degree Earth video. Public voting closes April 18, 2019.'"
      ]
     },
     "execution_count": 124,
     "metadata": {},
     "output_type": "execute_result"
    }
   ],
   "source": [
    "#Getting the list element closest to the p value and storing in a variable typically we would want to get the list, but since\n",
    "#the project is just calling for the first we can get away with .find instead of .find_all\n",
    "#Selecting text and stripping it\n",
    "news_p = nasa_news_soup.find(\"div\", class_=\"rollover_description_inner\").text.strip()\n",
    "news_p"
   ]
  },
  {
   "cell_type": "code",
   "execution_count": 125,
   "metadata": {},
   "outputs": [
    {
     "data": {
      "text/plain": [
       "'NASA Garners 7 Webby Award Nominations'"
      ]
     },
     "execution_count": 125,
     "metadata": {},
     "output_type": "execute_result"
    }
   ],
   "source": [
    "#Getting the list element closes to the tile and storing in a variable, again we can get away with .find\n",
    "#Selecting text and stripping it\n",
    "news_title = nasa_news_soup.find(\"div\", class_=\"content_title\").text.strip()\n",
    "news_title"
   ]
  },
  {
   "cell_type": "markdown",
   "metadata": {},
   "source": [
    "#  JPL Featured Mars Image"
   ]
  },
  {
   "cell_type": "code",
   "execution_count": 137,
   "metadata": {},
   "outputs": [],
   "source": [
    "#Use this url as the scraping target\n",
    "jpl_url = \"https://www.jpl.nasa.gov/spaceimages/?search=&category=Mars#submit\"\n",
    "\n",
    "browser.visit(jpl_url)\n",
    "html = browser.html\n",
    "jpl_soup = bs(html, 'html.parser')\n",
    "#jpl_soup"
   ]
  },
  {
   "cell_type": "code",
   "execution_count": 128,
   "metadata": {},
   "outputs": [],
   "source": [
    "#looking click 'FULL IMAGE' and then 'more info'\n",
    "browser.click_link_by_partial_text(\"FULL IMAGE\")\n",
    "browser.click_link_by_partial_text(\"more info\")"
   ]
  },
  {
   "cell_type": "code",
   "execution_count": 130,
   "metadata": {},
   "outputs": [],
   "source": [
    "#Feed HTMl and Parse\n",
    "html = browser.html\n",
    "jpl_feature_soup = bs(html, 'html.parser')\n",
    "jpl_feature_image_links = jpl_feature_soup.find_all('div', class_='download_tiff')"
   ]
  },
  {
   "cell_type": "code",
   "execution_count": 138,
   "metadata": {},
   "outputs": [],
   "source": [
    "#Empty list to store output of for loop\n",
    "link_list = []\n",
    "\n",
    "#Getting all links\n",
    "for item in jpl_feature_image_links:\n",
    "    link = item.find('a')['href']\n",
    "    link_list.append(link)"
   ]
  },
  {
   "cell_type": "code",
   "execution_count": 139,
   "metadata": {},
   "outputs": [
    {
     "data": {
      "text/plain": [
       "'https://photojournal.jpl.nasa.gov/jpeg/PIA17924.jpg'"
      ]
     },
     "execution_count": 139,
     "metadata": {},
     "output_type": "execute_result"
    }
   ],
   "source": [
    "#Getting the second item and appending to the first part of the url\n",
    "jpgend = link_list[1]\n",
    "featured_image_url = ('https:' + jpgend)\n",
    "#Output\n",
    "featured_image_url"
   ]
  },
  {
   "cell_type": "markdown",
   "metadata": {},
   "source": [
    "# Latest Mars Weather Report - Twitter"
   ]
  },
  {
   "cell_type": "code",
   "execution_count": 140,
   "metadata": {},
   "outputs": [],
   "source": [
    "#TWITTER"
   ]
  },
  {
   "cell_type": "code",
   "execution_count": 141,
   "metadata": {},
   "outputs": [],
   "source": [
    "#Acquiring scrape target\n",
    "mars_twitter = 'https://twitter.com/marswxreport?lang=en'\n",
    "\n",
    "#Use url client\n",
    "twitterresponse = requests.get(mars_twitter)\n",
    "#twitterresponse"
   ]
  },
  {
   "cell_type": "code",
   "execution_count": 142,
   "metadata": {},
   "outputs": [],
   "source": [
    "#Make some twitter weather soup\n",
    "mars_weather_parsed = bs(twitterresponse.text, 'html.parser')"
   ]
  },
  {
   "cell_type": "code",
   "execution_count": 143,
   "metadata": {},
   "outputs": [],
   "source": [
    "#selecting the top tweet and stripping text\n",
    "mars_weather = mars_weather_parsed.find('p', class_='TweetTextSize TweetTextSize--normal js-tweet-text tweet-text').text.strip()"
   ]
  },
  {
   "cell_type": "code",
   "execution_count": 144,
   "metadata": {},
   "outputs": [
    {
     "data": {
      "text/plain": [
       "'InSight sol 140 (2019-04-19) low -98.6ºC (-145.5ºF) high -18.0ºC (-0.4ºF)\\nwinds from the W at 4.0 m/s (8.9 mph) gusting to 14.2 m/s (31.8 mph)\\npressure at 7.40 hPapic.twitter.com/4YBCvCijXM'"
      ]
     },
     "execution_count": 144,
     "metadata": {},
     "output_type": "execute_result"
    }
   ],
   "source": [
    "#Output\n",
    "mars_weather"
   ]
  },
  {
   "cell_type": "markdown",
   "metadata": {},
   "source": [
    "# Mars Facts from Space-Facts.com"
   ]
  },
  {
   "cell_type": "code",
   "execution_count": 173,
   "metadata": {},
   "outputs": [],
   "source": [
    "#MARS FACTS"
   ]
  },
  {
   "cell_type": "code",
   "execution_count": 174,
   "metadata": {},
   "outputs": [],
   "source": [
    "#Acquiring scraping target\n",
    "mars_facts_url = 'https://space-facts.com/mars/'\n",
    "factstable = pd.read_html(mars_facts_url)\n",
    "#reference first item in list\n",
    "factstable_ = factstable[0]"
   ]
  },
  {
   "cell_type": "code",
   "execution_count": 177,
   "metadata": {},
   "outputs": [],
   "source": [
    "#df to html\n",
    "mars_facts = factstable_.to_html('mars_facts.html', index=False, header=False)"
   ]
  },
  {
   "cell_type": "markdown",
   "metadata": {},
   "source": [
    "# Mars Hemisphere Images from USGS.gov"
   ]
  },
  {
   "cell_type": "code",
   "execution_count": 152,
   "metadata": {},
   "outputs": [],
   "source": [
    "#HEMISPHERES"
   ]
  },
  {
   "cell_type": "code",
   "execution_count": 157,
   "metadata": {},
   "outputs": [],
   "source": [
    "#ACQUIRING TARGET URL\n",
    "mars_hemisphere_url = 'https://astrogeology.usgs.gov/search/results?q=hemisphere+enhanced&k1=target&v1=Mars'\n",
    "browser.visit(mars_hemisphere_url)\n",
    "html = browser.html\n",
    "hemisphere_soup = bs(html, 'html.parser')\n",
    "#hemisphere_soup"
   ]
  },
  {
   "cell_type": "code",
   "execution_count": 158,
   "metadata": {},
   "outputs": [],
   "source": [
    "hemisphere_results = hemisphere_soup.find_all(\"div\", class_=\"description\")\n",
    "#hemisphere_results"
   ]
  },
  {
   "cell_type": "code",
   "execution_count": 163,
   "metadata": {},
   "outputs": [
    {
     "data": {
      "text/plain": [
       "['Cerberus Hemisphere Enhanced',\n",
       " 'Schiaparelli Hemisphere Enhanced',\n",
       " 'Syrtis Major Hemisphere Enhanced',\n",
       " 'Valles Marineris Hemisphere Enhanced']"
      ]
     },
     "execution_count": 163,
     "metadata": {},
     "output_type": "execute_result"
    }
   ],
   "source": [
    "#Holding titles and the links to be used to gather the full image url\n",
    "title = []\n",
    "link_list = []\n",
    "for result in hemisphere_results:\n",
    "    title_text = result.find('h3').text.strip()\n",
    "    link = result.a['href']\n",
    "    \n",
    "    title.append(title_text)\n",
    "    link_list.append(link)\n",
    "title\n",
    "#link_list"
   ]
  },
  {
   "cell_type": "code",
   "execution_count": 161,
   "metadata": {},
   "outputs": [
    {
     "data": {
      "text/plain": [
       "['http://astropedia.astrogeology.usgs.gov/download/Mars/Viking/cerberus_enhanced.tif/full.jpg',\n",
       " 'http://astropedia.astrogeology.usgs.gov/download/Mars/Viking/schiaparelli_enhanced.tif/full.jpg',\n",
       " 'http://astropedia.astrogeology.usgs.gov/download/Mars/Viking/syrtis_major_enhanced.tif/full.jpg',\n",
       " 'http://astropedia.astrogeology.usgs.gov/download/Mars/Viking/valles_marineris_enhanced.tif/full.jpg']"
      ]
     },
     "execution_count": 161,
     "metadata": {},
     "output_type": "execute_result"
    }
   ],
   "source": [
    "img_url = []\n",
    "i = 0\n",
    "j = 0\n",
    "while i < 4:\n",
    "    page = 'https://astrogeology.usgs.gov' + link_list[j]\n",
    "    browser.visit(page)\n",
    "    html = browser.html\n",
    "    hemisphere_page_soup = bs(html, 'html.parser')\n",
    "    hemisphere_downloads = hemisphere_page_soup.find(\"div\", class_='downloads')\n",
    "    hemisphere_url = hemisphere_downloads.ul.a['href']\n",
    "    img_url.append(hemisphere_url)\n",
    "    i+=1\n",
    "    j+=1\n",
    "img_url"
   ]
  },
  {
   "cell_type": "code",
   "execution_count": 172,
   "metadata": {},
   "outputs": [
    {
     "data": {
      "text/plain": [
       "[{'title': 'Cerberus Hemisphere Enhanced',\n",
       "  'img_url': 'http://astropedia.astrogeology.usgs.gov/download/Mars/Viking/cerberus_enhanced.tif/full.jpg'},\n",
       " {'title': 'Schiaparelli Hemisphere Enhanced',\n",
       "  'img_url': 'http://astropedia.astrogeology.usgs.gov/download/Mars/Viking/schiaparelli_enhanced.tif/full.jpg'},\n",
       " {'title': 'Syrtis Major Hemisphere Enhanced',\n",
       "  'img_url': 'http://astropedia.astrogeology.usgs.gov/download/Mars/Viking/syrtis_major_enhanced.tif/full.jpg'},\n",
       " {'title': 'Valles Marineris Hemisphere Enhanced',\n",
       "  'img_url': 'http://astropedia.astrogeology.usgs.gov/download/Mars/Viking/valles_marineris_enhanced.tif/full.jpg'}]"
      ]
     },
     "execution_count": 172,
     "metadata": {},
     "output_type": "execute_result"
    }
   ],
   "source": [
    "#Create a list of dictionaries based on title_list and img_url\n",
    "dict0 = dict({ \"title\" : title[0], \"img_url\": img_url[0]})\n",
    "dict1 = dict({ \"title\" : title[1], \"img_url\": img_url[1]})\n",
    "dict2 = dict({ \"title\" : title[2], \"img_url\": img_url[2]})\n",
    "dict3 = dict({ \"title\" : title[3], \"img_url\": img_url[3]})\n",
    "\n",
    "hemisphere_image_urls = [dict0,dict1,dict2,dict3]\n",
    "hemisphere_image_urls"
   ]
  },
  {
   "cell_type": "markdown",
   "metadata": {},
   "source": [
    "# Store Scraped Data in MongoDB"
   ]
  },
  {
   "cell_type": "code",
   "execution_count": null,
   "metadata": {},
   "outputs": [],
   "source": []
  }
 ],
 "metadata": {
  "kernelspec": {
   "display_name": "Python 3",
   "language": "python",
   "name": "python3"
  },
  "language_info": {
   "codemirror_mode": {
    "name": "ipython",
    "version": 3
   },
   "file_extension": ".py",
   "mimetype": "text/x-python",
   "name": "python",
   "nbconvert_exporter": "python",
   "pygments_lexer": "ipython3",
   "version": "3.7.1"
  }
 },
 "nbformat": 4,
 "nbformat_minor": 2
}
